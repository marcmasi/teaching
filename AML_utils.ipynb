{
  "nbformat": 4,
  "nbformat_minor": 0,
  "metadata": {
    "colab": {
      "name": "utils.ipynb",
      "provenance": [],
      "collapsed_sections": [],
      "authorship_tag": "ABX9TyPDJYQkjojmcNJKbmnic+Zw"
    },
    "kernelspec": {
      "name": "python3",
      "display_name": "Python 3"
    },
    "language_info": {
      "name": "python"
    },
    "accelerator": "GPU"
  },
  "cells": [
    {
      "cell_type": "markdown",
      "source": [
        "Some guidelines for loading the train, validation and test datasets, saving the models and making predictions."
      ],
      "metadata": {
        "id": "-wLDfM4T8qg9"
      }
    },
    {
      "cell_type": "code",
      "execution_count": null,
      "metadata": {
        "id": "INpyKaroGNuY"
      },
      "outputs": [],
      "source": [
        "!pip3 install fastai --upgrade\n",
        "\n",
        "from fastai.vision.all import *"
      ]
    },
    {
      "cell_type": "code",
      "source": [
        "# train and validation datasets from Drive\n",
        "from google.colab import drive\n",
        "drive.mount('/content/drive')\n",
        "!mkdir /content/dataset/\n",
        "!unzip \"drive/MyDrive/AML/dataset_CIFAR10.zip\" -d \"/content/dataset/\""
      ],
      "metadata": {
        "id": "a3gW5H79GUAS"
      },
      "execution_count": null,
      "outputs": []
    },
    {
      "cell_type": "code",
      "source": [
        "#loading train and validation dataset\n",
        "img_path = 'dataset/'\n",
        "batch_size = 128\n",
        "\n",
        "dblock = DataBlock(blocks=(ImageBlock, CategoryBlock),\n",
        "                   get_items=get_image_files,\n",
        "                   splitter=GrandparentSplitter(train_name='train', valid_name='validation'),\n",
        "                   get_y=parent_label\n",
        "                   )\n",
        "dls = dblock.dataloaders(img_path, \n",
        "                         bs=batch_size\n",
        "                         )"
      ],
      "metadata": {
        "id": "XrKnDRAOHcrF"
      },
      "execution_count": null,
      "outputs": []
    },
    {
      "cell_type": "markdown",
      "source": [
        "*At this point you have to create your model and train it.\n",
        "The rest of the code uses a model called learn.*"
      ],
      "metadata": {
        "id": "96VkqRPV6ks3"
      }
    },
    {
      "cell_type": "code",
      "source": [
        "# exporting the model\n",
        "learn.export('drive/MyDrive/AML/model.pkl')"
      ],
      "metadata": {
        "id": "pls0BDc4ILtP"
      },
      "execution_count": null,
      "outputs": []
    },
    {
      "cell_type": "code",
      "source": [
        "# importing the model\n",
        "learn = load_learner('drive/MyDrive/AML/model.pkl')"
      ],
      "metadata": {
        "id": "ay5Mnj_6ITW5"
      },
      "execution_count": null,
      "outputs": []
    },
    {
      "cell_type": "code",
      "source": [
        "# test dataset from Drive\n",
        "from google.colab import drive\n",
        "drive.mount('/content/drive')\n",
        "!mkdir /content/dataset/\n",
        "!unzip \"drive/MyDrive/AML/test_unlabelled.zip\" -d \"/content/dataset/\""
      ],
      "metadata": {
        "id": "Ag71sXq-In1p"
      },
      "execution_count": null,
      "outputs": []
    },
    {
      "cell_type": "code",
      "source": [
        "# predictions on the test dataset (unlabelled)\n",
        "test_files = get_image_files('dataset/test_unlabelled/')\n",
        "test_files = test_files.sorted()\n",
        "test_dl = learn.dls.test_dl(test_files, with_labels=False)\n",
        "preds, _ = learn.get_preds(dl=test_dl)\n",
        "\n",
        "preds_class = preds.argmax(dim=1)\n",
        "np.savetxt('drive/MyDrive/AML/predictions.csv', preds_class, delimiter=',')"
      ],
      "metadata": {
        "id": "KBidX9lgIbWt"
      },
      "execution_count": null,
      "outputs": []
    }
  ]
}
